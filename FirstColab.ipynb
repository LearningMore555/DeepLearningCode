{
  "nbformat": 4,
  "nbformat_minor": 0,
  "metadata": {
    "colab": {
      "provenance": [],
      "gpuType": "T4",
      "authorship_tag": "ABX9TyOgkXjrVuxqzEqpYjmw6fPN",
      "include_colab_link": true
    },
    "kernelspec": {
      "name": "python3",
      "display_name": "Python 3"
    },
    "language_info": {
      "name": "python"
    },
    "accelerator": "GPU"
  },
  "cells": [
    {
      "cell_type": "markdown",
      "metadata": {
        "id": "view-in-github",
        "colab_type": "text"
      },
      "source": [
        "<a href=\"https://colab.research.google.com/github/LearningMore555/DeepLearningCode/blob/main/FirstColab.ipynb\" target=\"_parent\"><img src=\"https://colab.research.google.com/assets/colab-badge.svg\" alt=\"Open In Colab\"/></a>"
      ]
    },
    {
      "cell_type": "markdown",
      "source": [
        "## Fundamentals about PyTotch2023.6.11\n",
        "\n",
        "Resource notebook: https://www.learnpytorch.io/\n",
        "\n",
        "PyTorch documentaion: https://pytorch.org/docs/1.7.1/index.html\n",
        "https://pytorch.org/docs/2.0/"
      ],
      "metadata": {
        "id": "mGyVOW8aHQDw"
      }
    },
    {
      "cell_type": "code",
      "execution_count": null,
      "metadata": {
        "colab": {
          "base_uri": "https://localhost:8080/"
        },
        "id": "HO74bFbxFxCU",
        "outputId": "0ad6fc30-0b05-4f38-d888-4d96c33a6036"
      },
      "outputs": [
        {
          "output_type": "stream",
          "name": "stdout",
          "text": [
            "Hello!Google!\n",
            "Tue Jun 13 00:22:12 2023       \n",
            "+-----------------------------------------------------------------------------+\n",
            "| NVIDIA-SMI 525.85.12    Driver Version: 525.85.12    CUDA Version: 12.0     |\n",
            "|-------------------------------+----------------------+----------------------+\n",
            "| GPU  Name        Persistence-M| Bus-Id        Disp.A | Volatile Uncorr. ECC |\n",
            "| Fan  Temp  Perf  Pwr:Usage/Cap|         Memory-Usage | GPU-Util  Compute M. |\n",
            "|                               |                      |               MIG M. |\n",
            "|===============================+======================+======================|\n",
            "|   0  Tesla T4            Off  | 00000000:00:04.0 Off |                    0 |\n",
            "| N/A   65C    P8    11W /  70W |      0MiB / 15360MiB |      0%      Default |\n",
            "|                               |                      |                  N/A |\n",
            "+-------------------------------+----------------------+----------------------+\n",
            "                                                                               \n",
            "+-----------------------------------------------------------------------------+\n",
            "| Processes:                                                                  |\n",
            "|  GPU   GI   CI        PID   Type   Process name                  GPU Memory |\n",
            "|        ID   ID                                                   Usage      |\n",
            "|=============================================================================|\n",
            "|  No running processes found                                                 |\n",
            "+-----------------------------------------------------------------------------+\n"
          ]
        }
      ],
      "source": [
        "print(\"Hello!Google!\")\n",
        "!nvidia-smi"
      ]
    },
    {
      "cell_type": "code",
      "source": [
        "import torch\n",
        "import pandas as pd\n",
        "import numpy as np\n",
        "import matplotlib.pyplot as plt\n",
        "\n",
        "print(torch.__version__)"
      ],
      "metadata": {
        "colab": {
          "base_uri": "https://localhost:8080/"
        },
        "id": "hCD7Jg06G-7s",
        "outputId": "98f85352-5c9c-47bf-fec8-52303383d162"
      },
      "execution_count": null,
      "outputs": [
        {
          "output_type": "stream",
          "name": "stdout",
          "text": [
            "2.0.1+cu118\n"
          ]
        }
      ]
    },
    {
      "cell_type": "markdown",
      "source": [
        "## Introduction to Tensors\n",
        "\n",
        "Creating tensors\n",
        "\n",
        "PyTorch tensors are created using `torch.Tensor()` = https://pytorch.org/docs/stable/generated/torch.tensor.html#torch.tensor"
      ],
      "metadata": {
        "id": "dHbW6XjUIuRm"
      }
    },
    {
      "cell_type": "code",
      "source": [
        "# scalar\n",
        "scalar = torch.tensor(7)\n",
        "scalar1 = torch.tensor([7])\n",
        "\n",
        "print(scalar.ndim)\n",
        "print(scalar1.ndim)\n",
        "print(scalar.shape)\n",
        "print(scalar1.shape)"
      ],
      "metadata": {
        "colab": {
          "base_uri": "https://localhost:8080/"
        },
        "id": "GxGddI5uInhw",
        "outputId": "b1eae1bb-fe7b-40e8-ca15-92a85a1c89f4"
      },
      "execution_count": null,
      "outputs": [
        {
          "output_type": "stream",
          "name": "stdout",
          "text": [
            "0\n",
            "1\n",
            "torch.Size([])\n",
            "torch.Size([1])\n"
          ]
        }
      ]
    },
    {
      "cell_type": "code",
      "source": [
        "scalar.ndim"
      ],
      "metadata": {
        "colab": {
          "base_uri": "https://localhost:8080/"
        },
        "id": "wwqS9sGAMvwj",
        "outputId": "141becf9-cf36-4350-dfcc-4c1630a9f8d5"
      },
      "execution_count": null,
      "outputs": [
        {
          "output_type": "execute_result",
          "data": {
            "text/plain": [
              "0"
            ]
          },
          "metadata": {},
          "execution_count": 7
        }
      ]
    },
    {
      "cell_type": "code",
      "source": [
        "# Get tensor back as Python int.\n",
        "scalar.item()"
      ],
      "metadata": {
        "colab": {
          "base_uri": "https://localhost:8080/"
        },
        "id": "XGisPxLQNDkS",
        "outputId": "ba1cb3b2-6c61-4123-edd5-442d0774782c"
      },
      "execution_count": null,
      "outputs": [
        {
          "output_type": "execute_result",
          "data": {
            "text/plain": [
              "7"
            ]
          },
          "metadata": {},
          "execution_count": 8
        }
      ]
    },
    {
      "cell_type": "code",
      "source": [
        "# Vectoor\n",
        "vector = torch.tensor([7, 7])\n",
        "vector1 = torch.tensor([7, 7, 7])\n",
        "print(vector.ndim)\n",
        "print(vector.shape)"
      ],
      "metadata": {
        "colab": {
          "base_uri": "https://localhost:8080/"
        },
        "id": "sjxIzhatNSsm",
        "outputId": "0b2d92b4-54b4-4ff9-f054-9ea1126453af"
      },
      "execution_count": null,
      "outputs": [
        {
          "output_type": "stream",
          "name": "stdout",
          "text": [
            "1\n",
            "torch.Size([2])\n"
          ]
        }
      ]
    },
    {
      "cell_type": "code",
      "source": [
        "# MATRIX\n",
        "MATRIX = torch.tensor([[7, 8],\n",
        "                       [9, 10]])\n",
        "print(MATRIX.ndim)\n",
        "print(MATRIX.shape)"
      ],
      "metadata": {
        "colab": {
          "base_uri": "https://localhost:8080/"
        },
        "id": "SjjoeUxfOnqz",
        "outputId": "29f355e4-0f53-4d97-9d21-0fd56cd5b352"
      },
      "execution_count": null,
      "outputs": [
        {
          "output_type": "stream",
          "name": "stdout",
          "text": [
            "2\n",
            "torch.Size([2, 2])\n"
          ]
        }
      ]
    },
    {
      "cell_type": "code",
      "source": [
        "# TENSOR\n",
        "# In the book(https://www.learnpytorch.io/00_pytorch_fundamentals/), it says\n",
        "# scalar and vector use lower case, while MATRIX and TENSOR use upper case.\n",
        "TENSOR = torch.tensor([[[1, 2],\n",
        "                        [3, 4],\n",
        "                        [5, 6]]])\n",
        "\n",
        "print(TENSOR[0, 1])\n",
        "print(TENSOR.shape)\n",
        "print(TENSOR.ndim)"
      ],
      "metadata": {
        "colab": {
          "base_uri": "https://localhost:8080/"
        },
        "id": "6UMSDe8dPbjN",
        "outputId": "cb763b38-bf5e-4f5a-c00e-0aeff3d73ebd"
      },
      "execution_count": null,
      "outputs": [
        {
          "output_type": "stream",
          "name": "stdout",
          "text": [
            "tensor(2)\n",
            "torch.Size([1, 3, 2])\n",
            "3\n"
          ]
        }
      ]
    },
    {
      "cell_type": "markdown",
      "source": [
        "### Random tensors\n",
        "\n",
        "Why random tensors?\n",
        "\n",
        "Random tensors are important because the way that many neural networks learn is that they start with tensors full of random numbers and then adjust the random numbers to better represent the data.\n",
        "\n",
        "`start with random numbers -> look at data -> update random numbers -> look at data ->update random numbers -> ...`\n",
        "\n",
        "`torch.rand()` = https://pytorch.org/docs/stable/generated/torch.rand.html"
      ],
      "metadata": {
        "id": "YPK8QTtpVJs0"
      }
    },
    {
      "cell_type": "code",
      "source": [
        "# Create a random tensor of size of (3, 4)\n",
        "random_tensor = torch.rand(3, 4)\n",
        "print(random_tensor)\n",
        "print(random_tensor.ndim)\n",
        "print(random_tensor.shape)"
      ],
      "metadata": {
        "colab": {
          "base_uri": "https://localhost:8080/"
        },
        "id": "oHkHJy1uSsyL",
        "outputId": "8b181c28-b53e-4971-8c64-8c6beec7f130"
      },
      "execution_count": null,
      "outputs": [
        {
          "output_type": "stream",
          "name": "stdout",
          "text": [
            "tensor([[0.7054, 0.8781, 0.8816, 0.1462],\n",
            "        [0.9290, 0.9846, 0.4786, 0.2421],\n",
            "        [0.4698, 0.3634, 0.9680, 0.4242]])\n",
            "2\n",
            "torch.Size([3, 4])\n"
          ]
        }
      ]
    },
    {
      "cell_type": "markdown",
      "source": [
        "### Zeros and ones"
      ],
      "metadata": {
        "id": "623q-SB2hojD"
      }
    },
    {
      "cell_type": "code",
      "source": [
        "# Create a tensor of all zeros\n",
        "zeros = torch.zeros(size=(3, 4))\n",
        "print(zeros*random_tensor)"
      ],
      "metadata": {
        "colab": {
          "base_uri": "https://localhost:8080/"
        },
        "id": "f0xJ7EEQht3O",
        "outputId": "61719f50-bf63-4e64-e572-469d9eb479ee"
      },
      "execution_count": null,
      "outputs": [
        {
          "output_type": "stream",
          "name": "stdout",
          "text": [
            "tensor([[0., 0., 0., 0.],\n",
            "        [0., 0., 0., 0.],\n",
            "        [0., 0., 0., 0.]])\n"
          ]
        }
      ]
    },
    {
      "cell_type": "code",
      "source": [
        "# Create a tensor of all ones\n",
        "ones = torch.ones(size=(3, 4))\n",
        "print(ones.dtype)"
      ],
      "metadata": {
        "colab": {
          "base_uri": "https://localhost:8080/"
        },
        "id": "u6fffdEtiMNR",
        "outputId": "29e0ca5e-bd21-42aa-9f39-27fc3b85417b"
      },
      "execution_count": null,
      "outputs": [
        {
          "output_type": "stream",
          "name": "stdout",
          "text": [
            "torch.float32\n"
          ]
        }
      ]
    },
    {
      "cell_type": "markdown",
      "source": [
        "### Creating a range of tensors and tensors-like"
      ],
      "metadata": {
        "id": "GD3PfUoCimB2"
      }
    },
    {
      "cell_type": "code",
      "source": [
        "# Use torch.arange() - https://pytorch.org/docs/stable/generated/torch.arange.html?highlight=torch+arange#torch.arange\n",
        "one_to_ten = torch.arange(start=1, end=11, step=1)\n",
        "print(one_to_ten)"
      ],
      "metadata": {
        "colab": {
          "base_uri": "https://localhost:8080/"
        },
        "id": "ayIaZe6gites",
        "outputId": "94a78227-9f3f-426b-8a99-b12c5e935022"
      },
      "execution_count": null,
      "outputs": [
        {
          "output_type": "stream",
          "name": "stdout",
          "text": [
            "tensor([ 1,  2,  3,  4,  5,  6,  7,  8,  9, 10])\n"
          ]
        }
      ]
    },
    {
      "cell_type": "code",
      "source": [
        "# Creating tensors like\n",
        "ten_zeros = torch.zeros_like(input=one_to_ten)\n",
        "print(ten_zeros)"
      ],
      "metadata": {
        "colab": {
          "base_uri": "https://localhost:8080/"
        },
        "id": "ohLxyOJ8j157",
        "outputId": "08ee6fa1-d2cd-4bdd-b806-bad841930f60"
      },
      "execution_count": null,
      "outputs": [
        {
          "output_type": "stream",
          "name": "stdout",
          "text": [
            "tensor([0, 0, 0, 0, 0, 0, 0, 0, 0, 0])\n"
          ]
        }
      ]
    },
    {
      "cell_type": "markdown",
      "source": [
        "### Tensor datatypes\n",
        "\n",
        "**Note:** Tensor datatypes is one of the 3 big errors you'll run into witn PyTorch & Deep Learning:\n",
        "1. Tensors not right datatype;\n",
        "2. Tensors not right shape;\n",
        "3. Tensors not right device."
      ],
      "metadata": {
        "id": "I3PiLDOQkjtM"
      }
    },
    {
      "cell_type": "code",
      "source": [
        "# Float 32 tensor\n",
        "f32_tensor = torch.tensor([7, 1],\n",
        "                          dtype=torch.float32, # Data type of the tensor(e.g. float32, float64...)\n",
        "                          device=None, # \"cpu\" or \"cuda\"\n",
        "                          requires_grad=None)\n",
        "\n",
        "# https://pytorch.org/docs/stable/tensors.html?highlight=torch+tensor#torch.Tensor\n",
        "print(f32_tensor.dtype)"
      ],
      "metadata": {
        "colab": {
          "base_uri": "https://localhost:8080/"
        },
        "id": "fkQkuAA6kmSH",
        "outputId": "5be54a17-bd14-4c8f-9aec-a559fa776519"
      },
      "execution_count": null,
      "outputs": [
        {
          "output_type": "stream",
          "name": "stdout",
          "text": [
            "torch.float32\n"
          ]
        }
      ]
    },
    {
      "cell_type": "code",
      "source": [
        "f16_tensor = f32_tensor.type(torch.float16)\n",
        "print(f16_tensor.dtype)"
      ],
      "metadata": {
        "colab": {
          "base_uri": "https://localhost:8080/"
        },
        "id": "8VlnNoutpcuH",
        "outputId": "1d268694-2155-4075-badc-c1313010e839"
      },
      "execution_count": null,
      "outputs": [
        {
          "output_type": "stream",
          "name": "stdout",
          "text": [
            "torch.float16\n"
          ]
        }
      ]
    },
    {
      "cell_type": "markdown",
      "source": [
        "### Getting information from tensors(tensor attributes)\n",
        "\n",
        "1. `tensor.dtype`;\n",
        "2. `tensor.shape`;\n",
        "3. `tensor.device`;\n",
        "\n",
        "(tensor function)\n",
        "4. `tensor.size()`;\n",
        "5. `tensor.type()`.\n",
        "\n",
        "`torch.rand()` returns a tensor that contains random numbers drawn from the uniform distibution. While `torch.randn()` returns a tensor that contains random numbers drawn from normal distribution.\n",
        "\n",
        "`torch.rand()` - https://pytorch.org/docs/stable/generated/torch.randn.html\n",
        "\n",
        "`torch.randn()` - https://pytorch.org/docs/stable/generated/torch.randn.html"
      ],
      "metadata": {
        "id": "KTMefgA4rEBs"
      }
    },
    {
      "cell_type": "code",
      "source": [
        "some_tensor = torch.rand(3, 4, device=\"cuda\")\n",
        "print(some_tensor.dtype, some_tensor.shape, some_tensor.device)\n",
        "print(some_tensor.type(), some_tensor.size())"
      ],
      "metadata": {
        "colab": {
          "base_uri": "https://localhost:8080/"
        },
        "id": "MR2wrLg6sJXh",
        "outputId": "2fe97f1f-f204-468e-8227-d9b2f48132e4"
      },
      "execution_count": null,
      "outputs": [
        {
          "output_type": "stream",
          "name": "stdout",
          "text": [
            "torch.float32 torch.Size([3, 4]) cuda:0\n",
            "torch.cuda.FloatTensor torch.Size([3, 4])\n"
          ]
        }
      ]
    },
    {
      "cell_type": "markdown",
      "source": [
        "### Manipulating Tensors (tensor  operations)\n",
        "\n",
        "Teensor operations include:\n",
        "* Addition: `+`\n",
        "* Subtraciton: `-`\n",
        "* Multiplication(element-wise): `*`\n",
        "* Division: `/`\n",
        "* Matrix multiplitcation: `torch.matmul()` or `torch.mm()` for short - https://pytorch.org/docs/stable/generated/torch.matmul.html?highlight=torch+matmul#torch.matmul\n",
        "\n",
        "There are two rules that performing matrix multiplication needs to satisfy:\n",
        "1. The **inner dimensions** must match;\n",
        "2. The resulting matrix has the shape of the **outer dimensions**\n"
      ],
      "metadata": {
        "id": "6-nnJ5pIyaoi"
      }
    },
    {
      "cell_type": "code",
      "source": [
        "# Create a tensor\n",
        "\n",
        "%%time\n",
        "tensor_1 = torch.rand(3, 4)\n",
        "tensor_2 = torch.rand(4, 3)\n",
        "\n",
        "print(tensor_1)\n",
        "print(tensor_2)\n",
        "print(torch.matmul(tensor_1, tensor_2))"
      ],
      "metadata": {
        "colab": {
          "base_uri": "https://localhost:8080/"
        },
        "id": "q2i7HZhGzUuL",
        "outputId": "32a304fc-842c-4670-e683-70ed34b49697"
      },
      "execution_count": null,
      "outputs": [
        {
          "output_type": "stream",
          "name": "stdout",
          "text": [
            "tensor([[0.5658, 0.8853, 0.1216, 0.4169],\n",
            "        [0.6045, 0.8269, 0.4622, 0.0743],\n",
            "        [0.0022, 0.0933, 0.5924, 0.0506]])\n",
            "tensor([[0.9581, 0.3538, 0.5936],\n",
            "        [0.4743, 0.9292, 0.7034],\n",
            "        [0.4281, 0.1981, 0.2340],\n",
            "        [0.3095, 0.3559, 0.0626]])\n",
            "tensor([[1.1431, 1.1953, 1.0131],\n",
            "        [1.1922, 1.1003, 1.0532],\n",
            "        [0.3156, 0.2228, 0.2087]])\n",
            "CPU times: user 3.62 ms, sys: 0 ns, total: 3.62 ms\n",
            "Wall time: 3.63 ms\n"
          ]
        }
      ]
    },
    {
      "cell_type": "markdown",
      "source": [
        "**Transpose:** `.T`"
      ],
      "metadata": {
        "id": "Odlv0F0J9c2B"
      }
    },
    {
      "cell_type": "code",
      "source": [
        "print(tensor_1.T)"
      ],
      "metadata": {
        "colab": {
          "base_uri": "https://localhost:8080/"
        },
        "id": "2HT2gom59pnQ",
        "outputId": "10556384-b4bc-4e8b-cdbe-034d25325e26"
      },
      "execution_count": null,
      "outputs": [
        {
          "output_type": "stream",
          "name": "stdout",
          "text": [
            "tensor([[0.5658, 0.6045, 0.0022],\n",
            "        [0.8853, 0.8269, 0.0933],\n",
            "        [0.1216, 0.4622, 0.5924],\n",
            "        [0.4169, 0.0743, 0.0506]])\n"
          ]
        }
      ]
    },
    {
      "cell_type": "markdown",
      "source": [
        "## Finding the min, max, mean, sum, etc(tensor  aggregation)\n",
        "* min: `torch.min()` or `Name.min()`;\n",
        "* max: `torch.max()` or `Name.max()`;\n",
        "* mean: `torch.mean()` or `Name.mean()`;\n",
        "* sum: `torch.sum()` or `Name.sum()`.\n",
        "\n",
        "Note that `torch.mean()` or `Name.mean()` needs the element of the tensor to be float instead of long or int."
      ],
      "metadata": {
        "id": "Tj8TXH5s4dFN"
      }
    },
    {
      "cell_type": "code",
      "source": [
        "import torch\n",
        "x = torch.rand(2, 4, 3)\n",
        "# print(x)"
      ],
      "metadata": {
        "id": "wefXjrsc4tUh"
      },
      "execution_count": null,
      "outputs": []
    },
    {
      "cell_type": "code",
      "source": [
        "torch.mean(x)\n",
        "x.type(torch.float32)\n",
        "\n",
        "print(x.dtype)\n",
        "\n",
        "print(torch.mean(x), x.mean())\n",
        "print(torch.min(x), x.min())\n",
        "print(torch.max(x), x.max())\n",
        "print(torch.sum(x), x.sum())"
      ],
      "metadata": {
        "colab": {
          "base_uri": "https://localhost:8080/"
        },
        "id": "bIsw-KFhAjI5",
        "outputId": "a7d5cb04-6760-4b0e-fd09-b47a9abed811"
      },
      "execution_count": null,
      "outputs": [
        {
          "output_type": "stream",
          "name": "stdout",
          "text": [
            "tensor(0.5122) tensor(0.5122)\n",
            "tensor(0.0271) tensor(0.0271)\n",
            "tensor(0.9873) tensor(0.9873)\n",
            "tensor(12.2929) tensor(12.2929)\n",
            "torch.float32\n"
          ]
        }
      ]
    },
    {
      "cell_type": "markdown",
      "source": [
        "## Finding the positional min and max\n",
        "* `Name.argmin()`: returns the position where the minimal value occurs in the target tensor.\n",
        "* `Name.argmax()`: similar with `Name.argmin()` except it is for max value."
      ],
      "metadata": {
        "id": "Rk-N6P-ZFdkL"
      }
    },
    {
      "cell_type": "code",
      "source": [
        "print(x.argmin())\n",
        "print(x.argmax())\n",
        "\n",
        "# Some extra exploriment.\n",
        "t = torch.zeros(2, 3, 3)\n",
        "t[0, 0, 0] = 1\n",
        "t[0, 0, 1] = 1\n",
        "print((t == 1).nonzero())\n",
        "\n",
        "t1 = torch.zeros(2, 3, 3, 4)\n",
        "t1[0, 0, 0, 0] = 1\n",
        "t1[0, 1, 0, 1] = 1\n",
        "print((t1==1).nonzero())\n",
        "print((t1==1).nonzero(as_tuple=True))\n"
      ],
      "metadata": {
        "colab": {
          "base_uri": "https://localhost:8080/"
        },
        "id": "TvszSQX7GlhU",
        "outputId": "ba8a066c-73b1-4b28-c08c-3d11982e6142"
      },
      "execution_count": 30,
      "outputs": [
        {
          "output_type": "stream",
          "name": "stdout",
          "text": [
            "tensor(17)\n",
            "tensor(21)\n",
            "tensor([[0, 0, 0],\n",
            "        [0, 0, 1]])\n",
            "tensor([[0, 0, 0, 0],\n",
            "        [0, 1, 0, 1]])\n",
            "(tensor([0, 0]), tensor([0, 1]), tensor([0, 0]), tensor([0, 1]))\n"
          ]
        }
      ]
    }
  ]
}