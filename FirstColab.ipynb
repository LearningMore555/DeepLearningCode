{
  "nbformat": 4,
  "nbformat_minor": 0,
  "metadata": {
    "colab": {
      "provenance": [],
      "gpuType": "T4",
      "authorship_tag": "ABX9TyP0cYA0VwdH3Hnm9AsvRyZ6",
      "include_colab_link": true
    },
    "kernelspec": {
      "name": "python3",
      "display_name": "Python 3"
    },
    "language_info": {
      "name": "python"
    }
  },
  "cells": [
    {
      "cell_type": "markdown",
      "metadata": {
        "id": "view-in-github",
        "colab_type": "text"
      },
      "source": [
        "<a href=\"https://colab.research.google.com/github/LearningMore555/DeepLearningCode/blob/main/FirstColab.ipynb\" target=\"_parent\"><img src=\"https://colab.research.google.com/assets/colab-badge.svg\" alt=\"Open In Colab\"/></a>"
      ]
    },
    {
      "cell_type": "markdown",
      "source": [
        "## Fundamentals about PyTotch2023.6.11\n",
        "\n",
        "Resource notebook: https://www.learnpytorch.io/\n",
        "\n",
        "PyTorch documentaion: https://pytorch.org/docs/1.7.1/index.html\n",
        "https://pytorch.org/docs/2.0/"
      ],
      "metadata": {
        "id": "mGyVOW8aHQDw"
      }
    },
    {
      "cell_type": "code",
      "execution_count": 1,
      "metadata": {
        "colab": {
          "base_uri": "https://localhost:8080/"
        },
        "id": "HO74bFbxFxCU",
        "outputId": "f1961a11-7ca9-4793-827e-04658ed263ab"
      },
      "outputs": [
        {
          "output_type": "stream",
          "name": "stdout",
          "text": [
            "Hello!Google!\n",
            "Thu Jun 15 01:25:24 2023       \n",
            "+-----------------------------------------------------------------------------+\n",
            "| NVIDIA-SMI 525.85.12    Driver Version: 525.85.12    CUDA Version: 12.0     |\n",
            "|-------------------------------+----------------------+----------------------+\n",
            "| GPU  Name        Persistence-M| Bus-Id        Disp.A | Volatile Uncorr. ECC |\n",
            "| Fan  Temp  Perf  Pwr:Usage/Cap|         Memory-Usage | GPU-Util  Compute M. |\n",
            "|                               |                      |               MIG M. |\n",
            "|===============================+======================+======================|\n",
            "|   0  Tesla T4            Off  | 00000000:00:04.0 Off |                    0 |\n",
            "| N/A   60C    P8    10W /  70W |      0MiB / 15360MiB |      0%      Default |\n",
            "|                               |                      |                  N/A |\n",
            "+-------------------------------+----------------------+----------------------+\n",
            "                                                                               \n",
            "+-----------------------------------------------------------------------------+\n",
            "| Processes:                                                                  |\n",
            "|  GPU   GI   CI        PID   Type   Process name                  GPU Memory |\n",
            "|        ID   ID                                                   Usage      |\n",
            "|=============================================================================|\n",
            "|  No running processes found                                                 |\n",
            "+-----------------------------------------------------------------------------+\n"
          ]
        }
      ],
      "source": [
        "print(\"Hello!Google!\")\n",
        "!nvidia-smi"
      ]
    },
    {
      "cell_type": "code",
      "source": [
        "import torch\n",
        "import pandas as pd\n",
        "import numpy as np\n",
        "import matplotlib.pyplot as plt\n",
        "\n",
        "print(torch.__version__)"
      ],
      "metadata": {
        "colab": {
          "base_uri": "https://localhost:8080/"
        },
        "id": "hCD7Jg06G-7s",
        "outputId": "3b5f908c-b9c1-45ee-ef19-a9528991af91"
      },
      "execution_count": 2,
      "outputs": [
        {
          "output_type": "stream",
          "name": "stdout",
          "text": [
            "2.0.1+cu118\n"
          ]
        }
      ]
    },
    {
      "cell_type": "markdown",
      "source": [
        "## Introduction to Tensors\n",
        "\n",
        "Creating tensors\n",
        "\n",
        "PyTorch tensors are created using `torch.Tensor()` = https://pytorch.org/docs/stable/generated/torch.tensor.html#torch.tensor"
      ],
      "metadata": {
        "id": "dHbW6XjUIuRm"
      }
    },
    {
      "cell_type": "code",
      "source": [
        "# scalar\n",
        "scalar = torch.tensor(7)\n",
        "scalar1 = torch.tensor([7])\n",
        "\n",
        "print(scalar.ndim)\n",
        "print(scalar1.ndim)\n",
        "print(scalar.shape)\n",
        "print(scalar1.shape)"
      ],
      "metadata": {
        "colab": {
          "base_uri": "https://localhost:8080/"
        },
        "id": "GxGddI5uInhw",
        "outputId": "d13df00c-dcc9-4087-c869-377c01026234"
      },
      "execution_count": 3,
      "outputs": [
        {
          "output_type": "stream",
          "name": "stdout",
          "text": [
            "0\n",
            "1\n",
            "torch.Size([])\n",
            "torch.Size([1])\n"
          ]
        }
      ]
    },
    {
      "cell_type": "code",
      "source": [
        "scalar.ndim"
      ],
      "metadata": {
        "colab": {
          "base_uri": "https://localhost:8080/"
        },
        "id": "wwqS9sGAMvwj",
        "outputId": "8a0b4499-1e75-4bbe-eb4a-a074adb02ec8"
      },
      "execution_count": 4,
      "outputs": [
        {
          "output_type": "execute_result",
          "data": {
            "text/plain": [
              "0"
            ]
          },
          "metadata": {},
          "execution_count": 4
        }
      ]
    },
    {
      "cell_type": "code",
      "source": [
        "# Get tensor back as Python int.\n",
        "scalar.item()"
      ],
      "metadata": {
        "colab": {
          "base_uri": "https://localhost:8080/"
        },
        "id": "XGisPxLQNDkS",
        "outputId": "2b6ca5c6-05fa-40b0-ac9d-f4b35695b00c"
      },
      "execution_count": 5,
      "outputs": [
        {
          "output_type": "execute_result",
          "data": {
            "text/plain": [
              "7"
            ]
          },
          "metadata": {},
          "execution_count": 5
        }
      ]
    },
    {
      "cell_type": "code",
      "source": [
        "# Vectoor\n",
        "vector = torch.tensor([7, 7])\n",
        "vector1 = torch.tensor([7, 7, 7])\n",
        "print(vector.ndim)\n",
        "print(vector.shape)"
      ],
      "metadata": {
        "colab": {
          "base_uri": "https://localhost:8080/"
        },
        "id": "sjxIzhatNSsm",
        "outputId": "78b2fa5f-2a57-45fa-e22a-8d19c246a2bf"
      },
      "execution_count": 6,
      "outputs": [
        {
          "output_type": "stream",
          "name": "stdout",
          "text": [
            "1\n",
            "torch.Size([2])\n"
          ]
        }
      ]
    },
    {
      "cell_type": "code",
      "source": [
        "# MATRIX\n",
        "MATRIX = torch.tensor([[7, 8],\n",
        "                       [9, 10]])\n",
        "print(MATRIX.ndim)\n",
        "print(MATRIX.shape)"
      ],
      "metadata": {
        "colab": {
          "base_uri": "https://localhost:8080/"
        },
        "id": "SjjoeUxfOnqz",
        "outputId": "2c5517ba-0024-4b85-cc97-bd1610dc7b3a"
      },
      "execution_count": 7,
      "outputs": [
        {
          "output_type": "stream",
          "name": "stdout",
          "text": [
            "2\n",
            "torch.Size([2, 2])\n"
          ]
        }
      ]
    },
    {
      "cell_type": "code",
      "source": [
        "# TENSOR\n",
        "# In the book(https://www.learnpytorch.io/00_pytorch_fundamentals/), it says\n",
        "# scalar and vector use lower case, while MATRIX and TENSOR use upper case.\n",
        "TENSOR = torch.tensor([[[1, 2],\n",
        "                        [3, 4],\n",
        "                        [5, 6]]])\n",
        "\n",
        "print(TENSOR[0, 1])\n",
        "print(TENSOR.shape)\n",
        "print(TENSOR.ndim)"
      ],
      "metadata": {
        "colab": {
          "base_uri": "https://localhost:8080/"
        },
        "id": "6UMSDe8dPbjN",
        "outputId": "a6e176d4-7349-40de-a20b-d5fc851e9cc4"
      },
      "execution_count": 8,
      "outputs": [
        {
          "output_type": "stream",
          "name": "stdout",
          "text": [
            "tensor([3, 4])\n",
            "torch.Size([1, 3, 2])\n",
            "3\n"
          ]
        }
      ]
    },
    {
      "cell_type": "markdown",
      "source": [
        "### Random tensors\n",
        "\n",
        "Why random tensors?\n",
        "\n",
        "Random tensors are important because the way that many neural networks learn is that they start with tensors full of random numbers and then adjust the random numbers to better represent the data.\n",
        "\n",
        "`start with random numbers -> look at data -> update random numbers -> look at data ->update random numbers -> ...`\n",
        "\n",
        "`torch.rand()` = https://pytorch.org/docs/stable/generated/torch.rand.html"
      ],
      "metadata": {
        "id": "YPK8QTtpVJs0"
      }
    },
    {
      "cell_type": "code",
      "source": [
        "# Create a random tensor of size of (3, 4)\n",
        "random_tensor = torch.rand(3, 4)\n",
        "print(random_tensor)\n",
        "print(random_tensor.ndim)\n",
        "print(random_tensor.shape)"
      ],
      "metadata": {
        "colab": {
          "base_uri": "https://localhost:8080/"
        },
        "id": "oHkHJy1uSsyL",
        "outputId": "dfa95ce2-07e4-40cf-a3c7-348b71403910"
      },
      "execution_count": 9,
      "outputs": [
        {
          "output_type": "stream",
          "name": "stdout",
          "text": [
            "tensor([[0.6003, 0.3925, 0.4462, 0.9435],\n",
            "        [0.3285, 0.9716, 0.2744, 0.8626],\n",
            "        [0.7997, 0.3555, 0.6470, 0.9886]])\n",
            "2\n",
            "torch.Size([3, 4])\n"
          ]
        }
      ]
    },
    {
      "cell_type": "markdown",
      "source": [
        "### Zeros and ones"
      ],
      "metadata": {
        "id": "623q-SB2hojD"
      }
    },
    {
      "cell_type": "code",
      "source": [
        "# Create a tensor of all zeros\n",
        "zeros = torch.zeros(size=(3, 4))\n",
        "print(zeros*random_tensor)"
      ],
      "metadata": {
        "colab": {
          "base_uri": "https://localhost:8080/"
        },
        "id": "f0xJ7EEQht3O",
        "outputId": "e6c33597-59e2-46d5-d5ae-fc5ce8fdf7c7"
      },
      "execution_count": 10,
      "outputs": [
        {
          "output_type": "stream",
          "name": "stdout",
          "text": [
            "tensor([[0., 0., 0., 0.],\n",
            "        [0., 0., 0., 0.],\n",
            "        [0., 0., 0., 0.]])\n"
          ]
        }
      ]
    },
    {
      "cell_type": "code",
      "source": [
        "# Create a tensor of all ones\n",
        "ones = torch.ones(size=(3, 4))\n",
        "print(ones.dtype)"
      ],
      "metadata": {
        "colab": {
          "base_uri": "https://localhost:8080/"
        },
        "id": "u6fffdEtiMNR",
        "outputId": "08285964-4ad5-45dc-91a6-f36616515d71"
      },
      "execution_count": 11,
      "outputs": [
        {
          "output_type": "stream",
          "name": "stdout",
          "text": [
            "torch.float32\n"
          ]
        }
      ]
    },
    {
      "cell_type": "markdown",
      "source": [
        "### Creating a range of tensors and tensors-like"
      ],
      "metadata": {
        "id": "GD3PfUoCimB2"
      }
    },
    {
      "cell_type": "code",
      "source": [
        "# Use torch.arange() - https://pytorch.org/docs/stable/generated/torch.arange.html?highlight=torch+arange#torch.arange\n",
        "one_to_ten = torch.arange(start=1, end=11, step=1)\n",
        "print(one_to_ten)"
      ],
      "metadata": {
        "colab": {
          "base_uri": "https://localhost:8080/"
        },
        "id": "ayIaZe6gites",
        "outputId": "af110d5c-8821-40f9-cc5f-f66f48167821"
      },
      "execution_count": 12,
      "outputs": [
        {
          "output_type": "stream",
          "name": "stdout",
          "text": [
            "tensor([ 1,  2,  3,  4,  5,  6,  7,  8,  9, 10])\n"
          ]
        }
      ]
    },
    {
      "cell_type": "code",
      "source": [
        "# Creating tensors like\n",
        "ten_zeros = torch.zeros_like(input=one_to_ten)\n",
        "print(ten_zeros)"
      ],
      "metadata": {
        "colab": {
          "base_uri": "https://localhost:8080/"
        },
        "id": "ohLxyOJ8j157",
        "outputId": "cb8e5456-d16d-41ba-9c5e-357c729722e0"
      },
      "execution_count": 13,
      "outputs": [
        {
          "output_type": "stream",
          "name": "stdout",
          "text": [
            "tensor([0, 0, 0, 0, 0, 0, 0, 0, 0, 0])\n"
          ]
        }
      ]
    },
    {
      "cell_type": "markdown",
      "source": [
        "### Tensor datatypes\n",
        "\n",
        "**Note:** Tensor datatypes is one of the 3 big errors you'll run into witn PyTorch & Deep Learning:\n",
        "1. Tensors not right datatype;\n",
        "2. Tensors not right shape;\n",
        "3. Tensors not right device."
      ],
      "metadata": {
        "id": "I3PiLDOQkjtM"
      }
    },
    {
      "cell_type": "code",
      "source": [
        "# Float 32 tensor\n",
        "f32_tensor = torch.tensor([7, 1],\n",
        "                          dtype=torch.float32, # Data type of the tensor(e.g. float32, float64...)\n",
        "                          device=None, # \"cpu\" or \"cuda\"\n",
        "                          requires_grad=False)\n",
        "\n",
        "# https://pytorch.org/docs/stable/tensors.html?highlight=torch+tensor#torch.Tensor\n",
        "print(f32_tensor.dtype)"
      ],
      "metadata": {
        "colab": {
          "base_uri": "https://localhost:8080/"
        },
        "id": "fkQkuAA6kmSH",
        "outputId": "edb99e7c-2122-4607-8b5e-5ec4428ca49c"
      },
      "execution_count": 15,
      "outputs": [
        {
          "output_type": "stream",
          "name": "stdout",
          "text": [
            "torch.float32\n"
          ]
        }
      ]
    },
    {
      "cell_type": "code",
      "source": [
        "f16_tensor = f32_tensor.type(torch.float16)\n",
        "print(f16_tensor.dtype)"
      ],
      "metadata": {
        "colab": {
          "base_uri": "https://localhost:8080/"
        },
        "id": "8VlnNoutpcuH",
        "outputId": "255d5dcc-d2cc-49bd-80eb-2a2eb2b5eb09"
      },
      "execution_count": 16,
      "outputs": [
        {
          "output_type": "stream",
          "name": "stdout",
          "text": [
            "torch.float16\n"
          ]
        }
      ]
    },
    {
      "cell_type": "markdown",
      "source": [
        "### Getting information from tensors(tensor attributes)\n",
        "\n",
        "1. `tensor.dtype`;\n",
        "2. `tensor.shape`;\n",
        "3. `tensor.device`;\n",
        "\n",
        "(tensor function)\n",
        "4. `tensor.size()`;\n",
        "5. `tensor.type()`.\n",
        "\n",
        "`torch.rand()` returns a tensor that contains random numbers drawn from the uniform distibution. While `torch.randn()` returns a tensor that contains random numbers drawn from normal distribution.\n",
        "\n",
        "`torch.rand()` - https://pytorch.org/docs/stable/generated/torch.randn.html\n",
        "\n",
        "`torch.randn()` - https://pytorch.org/docs/stable/generated/torch.randn.html"
      ],
      "metadata": {
        "id": "KTMefgA4rEBs"
      }
    },
    {
      "cell_type": "code",
      "source": [
        "some_tensor = torch.rand(3, 4, device=\"cuda\")\n",
        "print(some_tensor.dtype, some_tensor.shape, some_tensor.device)\n",
        "print(some_tensor.type(), some_tensor.size())"
      ],
      "metadata": {
        "colab": {
          "base_uri": "https://localhost:8080/"
        },
        "id": "MR2wrLg6sJXh",
        "outputId": "f6f9cf93-c3f3-45a9-f221-1c60ef2b7ae1"
      },
      "execution_count": 17,
      "outputs": [
        {
          "output_type": "stream",
          "name": "stdout",
          "text": [
            "torch.float32 torch.Size([3, 4]) cuda:0\n",
            "torch.cuda.FloatTensor torch.Size([3, 4])\n"
          ]
        }
      ]
    },
    {
      "cell_type": "markdown",
      "source": [
        "### Manipulating Tensors (tensor  operations)\n",
        "\n",
        "Teensor operations include:\n",
        "* Addition: `+`\n",
        "* Subtraciton: `-`\n",
        "* Multiplication(element-wise): `*`\n",
        "* Division: `/`\n",
        "* Matrix multiplitcation: `torch.matmul()` or `torch.mm()` for short - https://pytorch.org/docs/stable/generated/torch.matmul.html?highlight=torch+matmul#torch.matmul\n",
        "\n",
        "There are two rules that performing matrix multiplication needs to satisfy:\n",
        "1. The **inner dimensions** must match;\n",
        "2. The resulting matrix has the shape of the **outer dimensions**\n"
      ],
      "metadata": {
        "id": "6-nnJ5pIyaoi"
      }
    },
    {
      "cell_type": "code",
      "source": [
        "# Create a tensor\n",
        "\n",
        "%%time\n",
        "tensor_1 = torch.rand(3, 4)\n",
        "tensor_2 = torch.rand(4, 3)\n",
        "\n",
        "print(tensor_1)\n",
        "print(tensor_2)\n",
        "print(torch.matmul(tensor_1, tensor_2))"
      ],
      "metadata": {
        "colab": {
          "base_uri": "https://localhost:8080/"
        },
        "id": "q2i7HZhGzUuL",
        "outputId": "f73b3cbc-76bb-4526-f366-c89f44f40ad1"
      },
      "execution_count": 18,
      "outputs": [
        {
          "output_type": "stream",
          "name": "stdout",
          "text": [
            "tensor([[0.1203, 0.7948, 0.0620, 0.0915],\n",
            "        [0.5889, 0.2017, 0.7990, 0.0017],\n",
            "        [0.4242, 0.5789, 0.0791, 0.2828]])\n",
            "tensor([[0.5312, 0.5487, 0.0862],\n",
            "        [0.7711, 0.2405, 0.2899],\n",
            "        [0.4511, 0.5583, 0.1886],\n",
            "        [0.5474, 0.3194, 0.9750]])\n",
            "tensor([[0.7548, 0.3210, 0.3418],\n",
            "        [0.8298, 0.8183, 0.2616],\n",
            "        [0.8622, 0.5065, 0.4950]])\n",
            "CPU times: user 3.5 ms, sys: 789 µs, total: 4.29 ms\n",
            "Wall time: 13.8 ms\n"
          ]
        }
      ]
    },
    {
      "cell_type": "markdown",
      "source": [
        "**Transpose:** `.T`"
      ],
      "metadata": {
        "id": "Odlv0F0J9c2B"
      }
    },
    {
      "cell_type": "code",
      "source": [
        "print(tensor_1.T)"
      ],
      "metadata": {
        "colab": {
          "base_uri": "https://localhost:8080/"
        },
        "id": "2HT2gom59pnQ",
        "outputId": "6e2cb678-66a0-4318-8152-0cf05e28f39f"
      },
      "execution_count": 20,
      "outputs": [
        {
          "output_type": "stream",
          "name": "stdout",
          "text": [
            "tensor([[0.1203, 0.5889, 0.4242],\n",
            "        [0.7948, 0.2017, 0.5789],\n",
            "        [0.0620, 0.7990, 0.0791],\n",
            "        [0.0915, 0.0017, 0.2828]])\n"
          ]
        }
      ]
    },
    {
      "cell_type": "markdown",
      "source": [
        "## Finding the min, max, mean, sum, etc(tensor  aggregation)\n",
        "* min: `torch.min()` or `Name.min()`;\n",
        "* max: `torch.max()` or `Name.max()`;\n",
        "* mean: `torch.mean()` or `Name.mean()`;\n",
        "* sum: `torch.sum()` or `Name.sum()`.\n",
        "\n",
        "Note that `torch.mean()` or `Name.mean()` needs the element of the tensor to be float instead of long or int."
      ],
      "metadata": {
        "id": "Tj8TXH5s4dFN"
      }
    },
    {
      "cell_type": "code",
      "source": [
        "import torch\n",
        "x = torch.rand(2, 4, 3)\n",
        "# print(x)"
      ],
      "metadata": {
        "id": "wefXjrsc4tUh"
      },
      "execution_count": 19,
      "outputs": []
    },
    {
      "cell_type": "code",
      "source": [
        "torch.mean(x)\n",
        "x.type(torch.float32)\n",
        "\n",
        "print(x.dtype)\n",
        "\n",
        "print(torch.mean(x), x.mean())\n",
        "print(torch.min(x), x.min())\n",
        "print(torch.max(x), x.max())\n",
        "print(torch.sum(x), x.sum())"
      ],
      "metadata": {
        "colab": {
          "base_uri": "https://localhost:8080/"
        },
        "id": "bIsw-KFhAjI5",
        "outputId": "d2ec386d-1336-4624-f47e-3f4218e3a7f4"
      },
      "execution_count": 21,
      "outputs": [
        {
          "output_type": "stream",
          "name": "stdout",
          "text": [
            "torch.float32\n",
            "tensor(0.5388) tensor(0.5388)\n",
            "tensor(0.1337) tensor(0.1337)\n",
            "tensor(0.9207) tensor(0.9207)\n",
            "tensor(12.9304) tensor(12.9304)\n"
          ]
        }
      ]
    },
    {
      "cell_type": "markdown",
      "source": [
        "## Finding the positional min and max\n",
        "* `Name.argmin()`: returns the position where the minimal value occurs in the target tensor.\n",
        "* `Name.argmax()`: similar with `Name.argmin()` except it is for max value."
      ],
      "metadata": {
        "id": "Rk-N6P-ZFdkL"
      }
    },
    {
      "cell_type": "code",
      "source": [
        "print(x.argmin())\n",
        "print(x.argmax())\n",
        "\n",
        "# Some extra exploriment.\n",
        "t = torch.zeros(2, 3, 3)\n",
        "t[0, 0, 0] = 1\n",
        "t[0, 0, 1] = 1\n",
        "print((t == 1).nonzero())\n",
        "\n",
        "t1 = torch.zeros(2, 3, 3, 4)\n",
        "t1[0, 0, 0, 0] = 1\n",
        "t1[0, 1, 0, 1] = 1\n",
        "print((t1==1).nonzero())\n",
        "print((t1==1).nonzero(as_tuple=True))\n"
      ],
      "metadata": {
        "colab": {
          "base_uri": "https://localhost:8080/"
        },
        "id": "TvszSQX7GlhU",
        "outputId": "5344b1b8-de2b-43bb-b35d-504881dbeed7"
      },
      "execution_count": 22,
      "outputs": [
        {
          "output_type": "stream",
          "name": "stdout",
          "text": [
            "tensor(12)\n",
            "tensor(14)\n",
            "tensor([[0, 0, 0],\n",
            "        [0, 0, 1]])\n",
            "tensor([[0, 0, 0, 0],\n",
            "        [0, 1, 0, 1]])\n",
            "(tensor([0, 0]), tensor([0, 1]), tensor([0, 0]), tensor([0, 1]))\n"
          ]
        }
      ]
    },
    {
      "cell_type": "markdown",
      "source": [
        "## Reshaping, stacking, squeezing and unsqueezing tensors\n",
        "\n",
        "* Reshape - reshape an input tensor to a defined shape;\n",
        "\n",
        "  `torch.reshape()` or `Name.reshape()` - https://pytorch.org/docs/stable/generated/torch.reshape.html?highlight=torch+reshape#torch.reshape\n",
        "\n",
        "* View - return a view of an input tnesor of certain shape but keep the same memory as the orihinal tensor;\n",
        "\n",
        "  `torch.Tensor.view()` - https://pytorch.org/docs/stable/generated/torch.Tensor.view.html?highlight=torch+view#torch.Tensor.view\n",
        "\n",
        "  `torch.stride()` - https://pytorch.org/docs/stable/generated/torch.Tensor.stride.html\n",
        "* Stacking - combine multiple tensors on toop of each other(vstack) or side by side(hstack)\n",
        "\n",
        "  `torch.stack()` - https://pytorch.org/docs/stable/generated/torch.stack.html\n",
        "\n",
        "  `torch.vstack()` - https://pytorch.org/docs/stable/generated/torch.vstack.html\n",
        "\n",
        "  `torch.hstack()` - https://pytorch.org/docs/stable/generated/torch.hstack.html\n",
        "\n",
        "* Squeeze - removes all `1` dimensions from a tensor;\n",
        "* Unsqueeze -add a `1` dimension to a target tensor;\n",
        "* Permute - return a view of the input with dimensions permuted(swapped) in a certain way."
      ],
      "metadata": {
        "id": "Zo3SJsglp5Xz"
      }
    },
    {
      "cell_type": "code",
      "source": [
        "# Create a tensor\n",
        "import torch\n",
        "\n",
        "print(type(1))\n",
        "print(type(1.))\n",
        "x = torch.arange(1., 10., 1.)\n",
        "print(x, x.shape)"
      ],
      "metadata": {
        "colab": {
          "base_uri": "https://localhost:8080/"
        },
        "id": "cQR-jQmFtjU_",
        "outputId": "fb131616-7c13-4a40-a71c-db44076408d8"
      },
      "execution_count": 2,
      "outputs": [
        {
          "output_type": "stream",
          "name": "stdout",
          "text": [
            "<class 'int'>\n",
            "<class 'float'>\n",
            "tensor([1., 2., 3., 4., 5., 6., 7., 8., 9.]) torch.Size([9])\n"
          ]
        }
      ]
    },
    {
      "cell_type": "code",
      "source": [
        "print(torch.reshape(x, (3, 3)))\n",
        "print(x.reshape(3, 3))\n",
        "print(x.reshape(1, 1, 9))\n",
        "print(x.reshape(9, 1, 1))\n",
        "print(x.reshape(1, 9, 1))"
      ],
      "metadata": {
        "id": "T5BTlSml0SQ7"
      },
      "execution_count": null,
      "outputs": []
    },
    {
      "cell_type": "code",
      "source": [
        "# Change the view.torch.view() doesn't create new tensor, it shares the same\n",
        "# memory with the original tensor, but outputs a different shape. So if you change the view, the original\n",
        "# tensor will also be changed.\n",
        "import torch\n",
        "\n",
        "x = torch.rand(1, 2, 3)\n",
        "y = x.view(1, 3, 2)\n",
        "print(y)\n",
        "print(x) # Here, we can see that x haven't been changed.\n",
        "z = x.transpose(1, 2)\n",
        "print(z)"
      ],
      "metadata": {
        "colab": {
          "base_uri": "https://localhost:8080/"
        },
        "id": "JSzG8qqL1skB",
        "outputId": "398f4042-db07-403e-9442-d42f51cc9c90"
      },
      "execution_count": 6,
      "outputs": [
        {
          "output_type": "stream",
          "name": "stdout",
          "text": [
            "tensor([[[0.4473, 0.5051],\n",
            "         [0.3615, 0.1270],\n",
            "         [0.5241, 0.9618]]])\n",
            "tensor([[[0.4473, 0.5051, 0.3615],\n",
            "         [0.1270, 0.5241, 0.9618]]])\n",
            "tensor([[[0.4473, 0.1270],\n",
            "         [0.5051, 0.5241],\n",
            "         [0.3615, 0.9618]]])\n"
          ]
        }
      ]
    }
  ]
}